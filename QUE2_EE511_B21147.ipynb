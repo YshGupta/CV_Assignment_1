{
  "nbformat": 4,
  "nbformat_minor": 0,
  "metadata": {
    "colab": {
      "provenance": [],
      "authorship_tag": "ABX9TyOIeibtJkJjv/3Egmb+nY08",
      "include_colab_link": true
    },
    "kernelspec": {
      "name": "python3",
      "display_name": "Python 3"
    },
    "language_info": {
      "name": "python"
    }
  },
  "cells": [
    {
      "cell_type": "markdown",
      "metadata": {
        "id": "view-in-github",
        "colab_type": "text"
      },
      "source": [
        "<a href=\"https://colab.research.google.com/github/YshGupta/CV_Assignment_1/blob/main/QUE2_EE511_B21147.ipynb\" target=\"_parent\"><img src=\"https://colab.research.google.com/assets/colab-badge.svg\" alt=\"Open In Colab\"/></a>"
      ]
    },
    {
      "cell_type": "code",
      "execution_count": 33,
      "metadata": {
        "id": "cDDjdw5RUQ2l"
      },
      "outputs": [],
      "source": [
        "#importing libraries\n",
        "import cv2\n",
        "import matplotlib.pyplot as plt\n",
        "import os\n",
        "from google.colab.patches import cv2_imshow"
      ]
    },
    {
      "cell_type": "code",
      "source": [
        "#if not present , creating a folder using os because manual folder creation was creating a problem in my system\n",
        "folder_path = os.path.join(os.getcwd(), \"walking\")\n",
        "folder_path\n",
        "if not os.path.exists(folder_path):\n",
        "  os.makedirs(folder_path)"
      ],
      "metadata": {
        "id": "Re-yIEqqaiS_"
      },
      "execution_count": 34,
      "outputs": []
    },
    {
      "cell_type": "code",
      "source": [
        "#function for storing every 10th frame of the video\n",
        "def extract_frames(video_path, output_folder, k):\n",
        "\n",
        "    vid = cv2.VideoCapture(video_path) #capturing the video file\n",
        "\n",
        "    frame_count = 0\n",
        "    while True:\n",
        "        ret, frame = vid.read()\n",
        "        if not ret:\n",
        "            break\n",
        "        if frame_count % k == 0:\n",
        "            frame = cv2.resize(frame, (256, 256))\n",
        "            frame_filename = os.path.join(output_folder, f\"{frame_count}.jpg\")\n",
        "            cv2.imwrite(frame_filename, frame)\n",
        "\n",
        "        frame_count += 1\n",
        "        # print( frame_count)\n",
        "    vid.release()\n",
        "    return frame_count"
      ],
      "metadata": {
        "id": "leyozz4uhmsN"
      },
      "execution_count": 35,
      "outputs": []
    },
    {
      "cell_type": "code",
      "source": [
        "#calling the extract_frames function\n",
        "\n",
        "video_path = \"walking_vid.avi\";\n",
        "output_folder = folder_path\n",
        "k = 10\n",
        "\n",
        "total_frames = extract_frames(video_path , output_folder , k )\n",
        "total_frames"
      ],
      "metadata": {
        "colab": {
          "base_uri": "https://localhost:8080/"
        },
        "id": "ajpRm3zCjVWD",
        "outputId": "0e3ce090-7ca4-4cb4-9276-29e6f6daa0a3"
      },
      "execution_count": 36,
      "outputs": [
        {
          "output_type": "execute_result",
          "data": {
            "text/plain": [
              "418"
            ]
          },
          "metadata": {},
          "execution_count": 36
        }
      ]
    }
  ]
}